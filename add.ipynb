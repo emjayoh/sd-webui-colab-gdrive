{
  "cells": [
    {
      "cell_type": "markdown",
      "metadata": {
        "id": "view-in-github",
        "colab_type": "text"
      },
      "source": [
        "<a href=\"https://colab.research.google.com/github/emjayoh/sd-webui-colab-gdrive/blob/main/add.ipynb\" target=\"_parent\"><img src=\"https://colab.research.google.com/assets/colab-badge.svg\" alt=\"Open In Colab\"/></a>"
      ]
    },
    {
      "cell_type": "markdown",
      "source": [
        "Model adding "
      ],
      "metadata": {
        "id": "g2tnwY6DlzFZ"
      }
    },
    {
      "cell_type": "markdown",
      "source": [],
      "metadata": {
        "id": "Npf0ZNvVXncL"
      }
    },
    {
      "cell_type": "code",
      "source": [],
      "metadata": {
        "id": "lqebcAH0YcL2"
      },
      "execution_count": null,
      "outputs": []
    },
    {
      "cell_type": "code",
      "execution_count": null,
      "metadata": {
        "id": "SaAJk33ppFw1"
      },
      "outputs": [],
      "source": [
        "from google.colab import drive\n",
        "drive.mount('/content/drive')\n",
        "\n",
        "!apt-get -y install -qq aria2\n",
        "\n",
        "model_url = \"https://civitai.com/api/download/models/21726\" #@param {type:\"string\"}\n",
        "model_name = \"wow.safetensors\" #@param {type:\"string\"}\n",
        "model_url = f\"\\\"{model_url}\\\"\"\n",
        "!aria2c --console-log-level=error -c -x 16 -s 16 -k 1M {model_url} -d /content/drive/MyDrive/stable-diffusion-webui-colab/stable-diffusion-webui/models/Stable-diffusion -o {model_name}"
      ]
    },
    {
      "cell_type": "markdown",
      "source": [],
      "metadata": {
        "id": "WEzfjXX122Zk"
      }
    },
    {
      "cell_type": "markdown",
      "source": [
        "Lora adding"
      ],
      "metadata": {
        "id": "HY4vckTTpm0Q"
      }
    },
    {
      "cell_type": "code",
      "execution_count": null,
      "metadata": {
        "cellView": "form",
        "id": "EHi5lnF1lxlZ"
      },
      "outputs": [],
      "source": [
        "from google.colab import drive\n",
        "drive.mount('/content/drive')\n",
        "\n",
        "!apt-get -y install -qq aria2\n",
        "\n",
        "lora_url = \"https://civitai.com/api/download/models/21726\" #@param {type:\"string\"}\n",
        "lora_name = \"wow.safetensors\" #@param {type:\"string\"}\n",
        "lora_url = f\"\\\"{lora_url}\\\"\"\n",
        "!aria2c --console-log-level=error -c -x 16 -s 16 -k 1M {lora_url} -d /content/drive/MyDrive/stable-diffusion-webui-colab/stable-diffusion-webui/models/Lora -o {lora_name}"
      ]
    },
    {
      "cell_type": "markdown",
      "source": [
        "Embed add"
      ],
      "metadata": {
        "id": "XqLhGH5aq6P3"
      }
    },
    {
      "cell_type": "code",
      "execution_count": null,
      "metadata": {
        "cellView": "form",
        "id": "r5UiLw_tq5Mf"
      },
      "outputs": [],
      "source": [
        "from google.colab import drive\n",
        "drive.mount('/content/drive')\n",
        "\n",
        "!apt-get -y install -qq aria2\n",
        "\n",
        "embed_url = \"https://civitai.com/api/download/models/25252\" #@param {type:\"string\"}\n",
        "embed_name = \"emb-avril.pt\" #@param {type:\"string\"}\n",
        "embed_url = f\"\\\"{lora_url}\\\"\"\n",
        "!aria2c --console-log-level=error -c -x 16 -s 16 -k 1M {lora_url} -d /content/drive/MyDrive/stable-diffusion-webui-colab/stable-diffusion-webui/embeddings -o {embed_name}"
      ]
    },
    {
      "cell_type": "markdown",
      "source": [
        "Add VAE\n",
        "\n",
        "https://huggingface.co/stabilityai/sd-vae-ft-ema-original/resolve/main/vae-ft-ema-560000-ema-pruned.ckpt"
      ],
      "metadata": {
        "id": "9JTwa1cR275R"
      }
    },
    {
      "cell_type": "code",
      "execution_count": null,
      "metadata": {
        "id": "QVnQuCcI3KDu"
      },
      "outputs": [],
      "source": [
        "from google.colab import drive\n",
        "drive.mount('/content/drive')\n",
        "\n",
        "!apt-get -y install -qq aria2\n",
        "\n",
        "vae_url = \"https://civitai.com/api/download/models/5955?type=VAE&format=Other\" #@param {type:\"string\"}\n",
        "vae_name = \"vae-moist.ckpt\" #@param {type:\"string\"}\n",
        "vae_url = f\"\\\"{vae_url}\\\"\"\n",
        "!aria2c --console-log-level=error -c -x 16 -s 16 -k 1M {vae_url} -d /content/drive/MyDrive/stable-diffusion-webui-colab/stable-diffusion-webui/models/VAE -o {vae_name}"
      ]
    }
  ],
  "metadata": {
    "colab": {
      "private_outputs": true,
      "provenance": [],
      "include_colab_link": true
    },
    "gpuClass": "standard",
    "kernelspec": {
      "display_name": "Python 3",
      "name": "python3"
    },
    "language_info": {
      "name": "python"
    }
  },
  "nbformat": 4,
  "nbformat_minor": 0
}